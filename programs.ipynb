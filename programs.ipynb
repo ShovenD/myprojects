{
 "cells": [
  {
   "cell_type": "code",
   "execution_count": 4,
   "metadata": {},
   "outputs": [
    {
     "name": "stdout",
     "output_type": "stream",
     "text": [
      "45 is greatest\n"
     ]
    }
   ],
   "source": [
    "#Largest number of three.\n",
    "num1=12\n",
    "num2=15\n",
    "num3=45\n",
    "\n",
    "if (num1>num2) and (num1>num3):\n",
    "    print(num1, \"is gretest\")\n",
    "elif (num2>num1) and (num2>num3):\n",
    "    print(num2,\"is greatest\")\n",
    "else:\n",
    "    print(num3,\"is greatest\")"
   ]
  },
  {
   "cell_type": "code",
   "execution_count": 2,
   "metadata": {},
   "outputs": [
    {
     "ename": "KeyboardInterrupt",
     "evalue": "Interrupted by user",
     "output_type": "error",
     "traceback": [
      "\u001b[1;31m---------------------------------------------------------------------------\u001b[0m",
      "\u001b[1;31mKeyboardInterrupt\u001b[0m                         Traceback (most recent call last)",
      "Cell \u001b[1;32mIn [2], line 2\u001b[0m\n\u001b[0;32m      1\u001b[0m \u001b[38;5;66;03m#All prime numbers at a intervals:\u001b[39;00m\n\u001b[1;32m----> 2\u001b[0m lower\u001b[38;5;241m=\u001b[39m\u001b[38;5;28mint\u001b[39m(\u001b[38;5;28minput\u001b[39m(\u001b[38;5;124m\"\u001b[39m\u001b[38;5;124mEnter lower limit\u001b[39m\u001b[38;5;124m\"\u001b[39m))\n\u001b[0;32m      3\u001b[0m upper\u001b[38;5;241m=\u001b[39m\u001b[38;5;28mint\u001b[39m(\u001b[38;5;28minput\u001b[39m(\u001b[38;5;124m\"\u001b[39m\u001b[38;5;124menter upper limit\u001b[39m\u001b[38;5;124m\"\u001b[39m))\n\u001b[0;32m      5\u001b[0m \u001b[38;5;28;01mfor\u001b[39;00m num \u001b[38;5;129;01min\u001b[39;00m \u001b[38;5;28mrange\u001b[39m(lower,upper\u001b[38;5;241m+\u001b[39m\u001b[38;5;241m1\u001b[39m):\n",
      "File \u001b[1;32mc:\\Users\\shove\\AppData\\Local\\Programs\\Python\\Python310\\lib\\site-packages\\ipykernel\\kernelbase.py:1177\u001b[0m, in \u001b[0;36mKernel.raw_input\u001b[1;34m(self, prompt)\u001b[0m\n\u001b[0;32m   <a href='file:///c%3A/Users/shove/AppData/Local/Programs/Python/Python310/lib/site-packages/ipykernel/kernelbase.py?line=1172'>1173</a>\u001b[0m \u001b[39mif\u001b[39;00m \u001b[39mnot\u001b[39;00m \u001b[39mself\u001b[39m\u001b[39m.\u001b[39m_allow_stdin:\n\u001b[0;32m   <a href='file:///c%3A/Users/shove/AppData/Local/Programs/Python/Python310/lib/site-packages/ipykernel/kernelbase.py?line=1173'>1174</a>\u001b[0m     \u001b[39mraise\u001b[39;00m StdinNotImplementedError(\n\u001b[0;32m   <a href='file:///c%3A/Users/shove/AppData/Local/Programs/Python/Python310/lib/site-packages/ipykernel/kernelbase.py?line=1174'>1175</a>\u001b[0m         \u001b[39m\"\u001b[39m\u001b[39mraw_input was called, but this frontend does not support input requests.\u001b[39m\u001b[39m\"\u001b[39m\n\u001b[0;32m   <a href='file:///c%3A/Users/shove/AppData/Local/Programs/Python/Python310/lib/site-packages/ipykernel/kernelbase.py?line=1175'>1176</a>\u001b[0m     )\n\u001b[1;32m-> <a href='file:///c%3A/Users/shove/AppData/Local/Programs/Python/Python310/lib/site-packages/ipykernel/kernelbase.py?line=1176'>1177</a>\u001b[0m \u001b[39mreturn\u001b[39;00m \u001b[39mself\u001b[39;49m\u001b[39m.\u001b[39;49m_input_request(\n\u001b[0;32m   <a href='file:///c%3A/Users/shove/AppData/Local/Programs/Python/Python310/lib/site-packages/ipykernel/kernelbase.py?line=1177'>1178</a>\u001b[0m     \u001b[39mstr\u001b[39;49m(prompt),\n\u001b[0;32m   <a href='file:///c%3A/Users/shove/AppData/Local/Programs/Python/Python310/lib/site-packages/ipykernel/kernelbase.py?line=1178'>1179</a>\u001b[0m     \u001b[39mself\u001b[39;49m\u001b[39m.\u001b[39;49m_parent_ident[\u001b[39m\"\u001b[39;49m\u001b[39mshell\u001b[39;49m\u001b[39m\"\u001b[39;49m],\n\u001b[0;32m   <a href='file:///c%3A/Users/shove/AppData/Local/Programs/Python/Python310/lib/site-packages/ipykernel/kernelbase.py?line=1179'>1180</a>\u001b[0m     \u001b[39mself\u001b[39;49m\u001b[39m.\u001b[39;49mget_parent(\u001b[39m\"\u001b[39;49m\u001b[39mshell\u001b[39;49m\u001b[39m\"\u001b[39;49m),\n\u001b[0;32m   <a href='file:///c%3A/Users/shove/AppData/Local/Programs/Python/Python310/lib/site-packages/ipykernel/kernelbase.py?line=1180'>1181</a>\u001b[0m     password\u001b[39m=\u001b[39;49m\u001b[39mFalse\u001b[39;49;00m,\n\u001b[0;32m   <a href='file:///c%3A/Users/shove/AppData/Local/Programs/Python/Python310/lib/site-packages/ipykernel/kernelbase.py?line=1181'>1182</a>\u001b[0m )\n",
      "File \u001b[1;32mc:\\Users\\shove\\AppData\\Local\\Programs\\Python\\Python310\\lib\\site-packages\\ipykernel\\kernelbase.py:1219\u001b[0m, in \u001b[0;36mKernel._input_request\u001b[1;34m(self, prompt, ident, parent, password)\u001b[0m\n\u001b[0;32m   <a href='file:///c%3A/Users/shove/AppData/Local/Programs/Python/Python310/lib/site-packages/ipykernel/kernelbase.py?line=1215'>1216</a>\u001b[0m             \u001b[39mbreak\u001b[39;00m\n\u001b[0;32m   <a href='file:///c%3A/Users/shove/AppData/Local/Programs/Python/Python310/lib/site-packages/ipykernel/kernelbase.py?line=1216'>1217</a>\u001b[0m \u001b[39mexcept\u001b[39;00m \u001b[39mKeyboardInterrupt\u001b[39;00m:\n\u001b[0;32m   <a href='file:///c%3A/Users/shove/AppData/Local/Programs/Python/Python310/lib/site-packages/ipykernel/kernelbase.py?line=1217'>1218</a>\u001b[0m     \u001b[39m# re-raise KeyboardInterrupt, to truncate traceback\u001b[39;00m\n\u001b[1;32m-> <a href='file:///c%3A/Users/shove/AppData/Local/Programs/Python/Python310/lib/site-packages/ipykernel/kernelbase.py?line=1218'>1219</a>\u001b[0m     \u001b[39mraise\u001b[39;00m \u001b[39mKeyboardInterrupt\u001b[39;00m(\u001b[39m\"\u001b[39m\u001b[39mInterrupted by user\u001b[39m\u001b[39m\"\u001b[39m) \u001b[39mfrom\u001b[39;00m \u001b[39mNone\u001b[39m\n\u001b[0;32m   <a href='file:///c%3A/Users/shove/AppData/Local/Programs/Python/Python310/lib/site-packages/ipykernel/kernelbase.py?line=1219'>1220</a>\u001b[0m \u001b[39mexcept\u001b[39;00m \u001b[39mException\u001b[39;00m:\n\u001b[0;32m   <a href='file:///c%3A/Users/shove/AppData/Local/Programs/Python/Python310/lib/site-packages/ipykernel/kernelbase.py?line=1220'>1221</a>\u001b[0m     \u001b[39mself\u001b[39m\u001b[39m.\u001b[39mlog\u001b[39m.\u001b[39mwarning(\u001b[39m\"\u001b[39m\u001b[39mInvalid Message:\u001b[39m\u001b[39m\"\u001b[39m, exc_info\u001b[39m=\u001b[39m\u001b[39mTrue\u001b[39;00m)\n",
      "\u001b[1;31mKeyboardInterrupt\u001b[0m: Interrupted by user"
     ]
    }
   ],
   "source": [
    "#All prime numbers at a intervals:\n",
    "lower=int(input(\"Enter lower limit\"))\n",
    "upper=int(input(\"enter upper limit\"))\n",
    "\n",
    "for num in range(lower,upper+1):\n",
    "    if (num>1):\n",
    "        for i in range(2,num):#must be divisible by 2\n",
    "            if num%i ==0:\n",
    "                break\n",
    "        else:\n",
    "            print(num)"
   ]
  },
  {
   "cell_type": "code",
   "execution_count": null,
   "metadata": {},
   "outputs": [],
   "source": [
    "#Fibonacci Sequence:next num= sum of previous\n",
    "#Using While Loop\n",
    "n=int(input(\"Enter Number\"))   \n",
    "n_1=0\n",
    "n_2=1\n",
    "count=0\n",
    "if n<=0:\n",
    "    print(\"Fibonacci not exist\")\n",
    "elif n==1:\n",
    "    print(\"Fibonacci is \",n_1)\n",
    "else:\n",
    "    print(\"Fibonacci is:\")\n",
    "    while(count<n):\n",
    "        print(n_1)\n",
    "        nth=n_1+n_2\n",
    "        n_1=n_2\n",
    "        n_2=nth\n",
    "        count+=1"
   ]
  },
  {
   "cell_type": "code",
   "execution_count": null,
   "metadata": {},
   "outputs": [],
   "source": [
    "#Factorial \n",
    "num=int(input(\"Enter Number\"))\n",
    "factorial=1\n",
    "if num<0:\n",
    "    print(\"factorial not exist\")\n",
    "elif num==0:\n",
    "    print(\"Factorial of 0 is 1\")\n",
    "else:\n",
    "    for i in range(1,num+1):\n",
    "        factorial=factorial*i\n",
    "    print(\"the Factorial of \",num,\"is\",factorial)"
   ]
  },
  {
   "cell_type": "code",
   "execution_count": null,
   "metadata": {},
   "outputs": [],
   "source": [
    "#Armstrong Numbers: if sum of Nth power of each digit = number otself\n",
    " # 1634  = 1*1*1*1+6*6*6*6+3*3*3*3+4*4*4*4\n",
    "\n",
    "number=int(input(\"Enter any positive  Number\"))\n",
    "def check_armstrong(num):\n",
    "    if num in range(1,10):\n",
    "        return True\n",
    "    order=len(str(num))\n",
    "    sum=0\n",
    "    original= num\n",
    "    while num>0:\n",
    "        digit = num %10\n",
    "        sum +=digit **order\n",
    "        num=num//10\n",
    "    if sum == original:\n",
    "        return True\n",
    "    return False\n",
    "\n",
    "\n",
    "if check_armstrong(number):\n",
    "    print(\"number is check_armstrong\")\n",
    "else:\n",
    "    print(\"Number is not armstrong\")"
   ]
  },
  {
   "cell_type": "code",
   "execution_count": null,
   "metadata": {},
   "outputs": [],
   "source": [
    "#Using While Loop\n",
    "i=int(input(\"Enter the number to check armstrong\"))\n",
    "original_number=i\n",
    "sum=0\n",
    "while(i>0):                                             #USE THIS\n",
    "    sum=sum+(i%10)*(i%10)*(i%10)   #use to find cube\n",
    "    i=i//10                                           \n",
    "if original_number==sum:\n",
    "    print(\"Number is armstrong\")\n",
    "else:\n",
    "    print(\"Number is not armstrong\")"
   ]
  },
  {
   "cell_type": "code",
   "execution_count": null,
   "metadata": {},
   "outputs": [],
   "source": [
    "#Find Product of Digits:\n",
    "i=int(input(\"Enter number\"))\n",
    "prod=1\n",
    "while(i>0):\n",
    "    prod=prod*(i%10)\n",
    "    i=i//10\n",
    "print(\"Product of Digits=\",prod)"
   ]
  },
  {
   "cell_type": "code",
   "execution_count": null,
   "metadata": {},
   "outputs": [],
   "source": [
    "# Reverse a number\n",
    "i=int(input(\"Enter Number:\"))\n",
    "rev=0\n",
    "while(i>0):\n",
    "    rev=(rev*10)+i%10\n",
    "    i=i//10   # remove last digit after decimal point\n",
    "print(\"Reverse=\", rev)"
   ]
  },
  {
   "cell_type": "code",
   "execution_count": null,
   "metadata": {},
   "outputs": [],
   "source": [
    "# # PAlindrome Number:  \n",
    "i=int(input(\"Enter Number:\"))\n",
    "rev=0\n",
    "x=i  #copying value of \"I\" in a variable \n",
    "while(i>0):\n",
    "    rev=(rev*10)+i%10\n",
    "    i=i//10   # remove last digit after decimal point\n",
    "\n",
    "if(x==rev):\n",
    "    print('palindrome number')\n",
    "else:\n",
    "    print(\"Not a palindrome\")"
   ]
  },
  {
   "cell_type": "code",
   "execution_count": null,
   "metadata": {},
   "outputs": [],
   "source": [
    "# REVERSE A STRING:     \n",
    "name=str(input(\"enter the string\"))                        \n",
    "rev=name[-1::-1]\n",
    "print(rev)\n",
    "========================\n",
    "METHOD TWO\n",
    "\n",
    "name=str(input(\"enter the string\"))\n",
    "for i in range(len(name)-1,-1,-1):\n",
    "    print(name[i],end=\"\")"
   ]
  },
  {
   "cell_type": "code",
   "execution_count": null,
   "metadata": {},
   "outputs": [],
   "source": [
    "#           LIST METHOD\n",
    "# =================================\n",
    "\n",
    "# print duplicate in a list: METHOD 1\n",
    "\n",
    "l=[\"hello\",10,10,2,0,22,22,10,10,10,]\n",
    "d=[]\n",
    "for element in l:\n",
    "    if l.count(element)>1 and element not in d:\n",
    "        d.append(element)\n",
    "print(d)"
   ]
  },
  {
   "cell_type": "code",
   "execution_count": null,
   "metadata": {},
   "outputs": [],
   "source": [
    "# METHOD 2\n",
    "l=[\"hello\",10,10,2,0,22,22,10,10,10]\n",
    "d=[]\n",
    "for i in range(len(l)):\n",
    "    for j in range(i+1,len(l)):\n",
    "        if l[i]==l[j] and l[i] not in d:\n",
    "            d.append(l[i])\n",
    "print(d)\n"
   ]
  },
  {
   "cell_type": "code",
   "execution_count": 13,
   "metadata": {},
   "outputs": [
    {
     "name": "stdout",
     "output_type": "stream",
     "text": [
      "length of list is: 7\n"
     ]
    }
   ],
   "source": [
    "#length of a list\n",
    "l=[8,2,4,5,78,9,3]\n",
    "counter =0\n",
    "for i in l:\n",
    "    counter=counter+1\n",
    "print(\"length of list is:\",+counter)"
   ]
  },
  {
   "cell_type": "code",
   "execution_count": 47,
   "metadata": {},
   "outputs": [
    {
     "name": "stdout",
     "output_type": "stream",
     "text": [
      "totalvowelscount: 2\n",
      "a =>> 0\n",
      "e =>> 1\n",
      "i =>> 0\n",
      "o =>> 1\n",
      "u =>> 0\n"
     ]
    }
   ],
   "source": [
    "#CoUnt vowels in a String input by User\n",
    "input_string=\"Shoven\"\n",
    "input_string=input_string.casefold()\n",
    "vowels=\"aeiou\"\n",
    "totalvowelscount=0\n",
    "vowelsdata={}.fromkeys(vowels,0)\n",
    "\n",
    "for character in input_string:\n",
    "    if character in vowels:\n",
    "        vowelsdata[character]+= 1\n",
    "        totalvowelscount+=1\n",
    "print(\"totalvowelscount:\",totalvowelscount)\n",
    "for vowel in vowelsdata:\n",
    "    print(vowel,\"=>>\",vowelsdata[vowel])"
   ]
  },
  {
   "cell_type": "markdown",
   "metadata": {},
   "source": [
    "Pattern Printing"
   ]
  },
  {
   "cell_type": "code",
   "execution_count": 26,
   "metadata": {},
   "outputs": [
    {
     "name": "stdout",
     "output_type": "stream",
     "text": [
      "* \n",
      "* * \n",
      "* * * \n",
      "* * * * \n",
      "* * * * * \n"
     ]
    }
   ],
   "source": [
    "def pattern(rownum):\n",
    "    for row in range(1,rownum+1):\n",
    "        for column in range(1,row+1):\n",
    "            print(\"*\",end=\" \")\n",
    "        print(\"\")\n",
    "rownum=5\n",
    "pattern(5)"
   ]
  },
  {
   "cell_type": "code",
   "execution_count": 22,
   "metadata": {},
   "outputs": [
    {
     "name": "stdout",
     "output_type": "stream",
     "text": [
      "\n",
      "1 \n",
      "2 2 \n",
      "3 3 3 \n",
      "4 4 4 4 \n",
      "5 5 5 5 5 \n"
     ]
    }
   ],
   "source": [
    "def pattern(n):\n",
    "    for i in range(n+1):\n",
    "        for j in range(i):\n",
    "            print(i,end=\" \")\n",
    "        print(\"\")\n",
    "pattern(5)"
   ]
  },
  {
   "cell_type": "code",
   "execution_count": 27,
   "metadata": {},
   "outputs": [
    {
     "name": "stdout",
     "output_type": "stream",
     "text": [
      "* * * * * \n",
      "* * * * \n",
      "* * * \n",
      "* * \n",
      "* \n"
     ]
    }
   ],
   "source": [
    "def pattern(rownum):\n",
    "    for row in range(rownum,0,-1):  #only reversing rows\n",
    "        for column in range(1,row+1):\n",
    "            print(\"*\",end=\" \")\n",
    "        print(\"\")\n",
    "\n",
    "\n",
    "pattern(5)"
   ]
  },
  {
   "cell_type": "code",
   "execution_count": 29,
   "metadata": {},
   "outputs": [
    {
     "name": "stdout",
     "output_type": "stream",
     "text": [
      "* \n",
      "* * \n",
      "* * * \n",
      "* * * * \n",
      "* * * * * \n",
      "* * * * \n",
      "* * * \n",
      "* * \n",
      "* \n"
     ]
    }
   ],
   "source": [
    "def pattern(rownum):\n",
    "    for row in range(1,rownum+1):\n",
    "        for column in range(1,row+1):\n",
    "            print(\"*\",end=\" \")\n",
    "        print(\"\")\n",
    "    for row in range(rownum-1,0,-1):  #only reversing rows\n",
    "        for column in range(1,row+1):\n",
    "            print(\"*\",end=\" \")\n",
    "        print(\"\")\n",
    "pattern(5)"
   ]
  },
  {
   "cell_type": "code",
   "execution_count": 33,
   "metadata": {},
   "outputs": [
    {
     "name": "stdout",
     "output_type": "stream",
     "text": [
      "* \n",
      "* * \n",
      "* * * \n",
      "* * * * \n",
      "* * * * * \n"
     ]
    }
   ],
   "source": [
    "def pattern(rownum):\n",
    "    for row in range(1,rownum+1):\n",
    "        for column in range(1,row+1):\n",
    "            print(\"row\",end=\" \")\n",
    "        print(\"\")\n",
    "pattern(5)"
   ]
  },
  {
   "cell_type": "code",
   "execution_count": 44,
   "metadata": {},
   "outputs": [
    {
     "name": "stdout",
     "output_type": "stream",
     "text": [
      "    *\n",
      "   **\n",
      "  ***\n",
      " ****\n",
      "*****\n"
     ]
    }
   ],
   "source": [
    "def pattern(rownum):\n",
    "    for row in range(1,rownum+1):\n",
    "        #display spaces\n",
    "        for space in range(1,(rownum-row)+1):\n",
    "            print(\" \",end=\"\")\n",
    "        #Display Stars:\n",
    "        for stars in range(1,row+1):\n",
    "            print(\"*\",end=\"\")\n",
    "        print()\n",
    "pattern(5)"
   ]
  },
  {
   "cell_type": "code",
   "execution_count": null,
   "metadata": {},
   "outputs": [],
   "source": []
  }
 ],
 "metadata": {
  "interpreter": {
   "hash": "d53dc8ff7993c7f79cf8f1319033dc7b3ad8ee835848bda7f7f682604c1dbadf"
  },
  "kernelspec": {
   "display_name": "Python 3.10.5 64-bit",
   "language": "python",
   "name": "python3"
  },
  "language_info": {
   "codemirror_mode": {
    "name": "ipython",
    "version": 3
   },
   "file_extension": ".py",
   "mimetype": "text/x-python",
   "name": "python",
   "nbconvert_exporter": "python",
   "pygments_lexer": "ipython3",
   "version": "3.10.5"
  },
  "orig_nbformat": 4
 },
 "nbformat": 4,
 "nbformat_minor": 2
}
